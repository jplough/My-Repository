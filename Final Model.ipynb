{
 "metadata": {
  "name": "",
  "signature": "sha256:9a22c6e8da65d763dc4098b6b0f55d6c8882e8c45a8e97f7d4f4f48a4a46923e"
 },
 "nbformat": 3,
 "nbformat_minor": 0,
 "worksheets": [
  {
   "cells": [
    {
     "cell_type": "raw",
     "metadata": {},
     "source": []
    },
    {
     "cell_type": "heading",
     "level": 1,
     "metadata": {},
     "source": [
      "Working Model:\n",
      "Water Conservation and Incentive Systems in Residential Los Angeles"
     ]
    },
    {
     "cell_type": "heading",
     "level": 2,
     "metadata": {},
     "source": [
      "Introduction"
     ]
    },
    {
     "cell_type": "markdown",
     "metadata": {},
     "source": [
      "Problem statement: As the cities of Los Angeles and Santa Monica adapt to water shortages with 20% water usage reduction targets over the next two years, how will the carrot versus stick approach of subsidies and penalties vary their respective results, and under uncertainty how likely is it that either city reaches its target?\n",
      "\n",
      "This problem lends iself well to agent based modelling as it will be the individual decision of each household to reduce its water consumption. The uptake of water reduction actions (through technological uptake and/or usage reduction) is non-deterministic process and one in which the actions of agents will affect and interact with eachother. To model how usage reduction will spread geographically across cities with several million residents, an ABM will be able to capture all of these effects and demonstrate a range of possile outcomes that a mathematical, deterministic model would not be able to convey.  "
     ]
    },
    {
     "cell_type": "markdown",
     "metadata": {},
     "source": [
      "I will be using my model to simulate the circumstances of the two cities/policies and also look at the combinational effects of the two policy outcomes. It will not look at Los Angeles and Santa Monica in two seperate models, per se, but following the results of penalty sweeping with no subsidy, and subsidy sweeping with no penalty, will look at Santa Monica and Los Angeles, respectively. Looking at the space in between these two extremes is also a important policy consideration, as in reality LA is likely to implement a penalty and Santa Monica does have incentive programs. Also, the hundreds of cities in California have various policy mixes, so this two dimensional sweep will be most significant. \n",
      "\n",
      "Based on a combination of household characteristics that are stochastically determined, agents will have water usage levels, reduction targets, income constraints and elasticities, varying lawn sizes, and varying abilities to be influenced by their neighbors to convert their lawns. For simplicities sake this model only considers budgetary constraints and a single technological subsidy, but the takeaways will apply to the spectrum of technologies that are not only being subsidized but also interact with budgetary considerations as they have upfront costs and future savings. \n",
      "\n",
      "This model will look at how policy makers can change penalties and subsidies in an optimal way to get water usage reduction under 20% over the 36 month policy window (January 2015-December 2017). Success will be if the total city has gone under 80% of its former usage (caveat: this is only looking at residential usage, not ag or industrial). Also important, thought, will be technological uptake and individual household changes, which will be tracked and can measure success as well, as linking household characteristics to decisions (or lack thereof) are also important policy takeaways. "
     ]
    },
    {
     "cell_type": "heading",
     "level": 2,
     "metadata": {},
     "source": [
      "Methods"
     ]
    },
    {
     "cell_type": "markdown",
     "metadata": {},
     "source": [
      "Space:\n",
      "This will be a grid based model, showing how changes happen between households over time and in a fixed space. The space will be a 30x30 grid that looks only at those houses with full moore neighborhood sets. This is most realistic because Los Angeles County is incredibly dense and an architype of urban sprawl, thus those boundary households are not in fact very realistic. The grid is at full density, again reflective of the dense urban area under investigation. Five percent of households will be initialized, at random, with a converted lawn, and penalties and subsidies will be swept through the model.\n",
      "\n",
      "Households:\n",
      "Households are intialized with several stochastically generaged traits. As each grid space is filled with a household, the household size, lawn size, water usage, income, budget elasticity and ability to be influenced are all randomly generated. While these may be correlated, for the sake of simplicity these are all independantly generated. As the results suggest some income effects, perhaps a future version of the model could take into account some correlation between income and household size, but beyond yard size, household water usage is not as income dependant as one might think due to artificially low water prices. \n",
      "\n",
      "Households will determine at each time step if they are going to convert their lawn based on whether they can afford to do so, and if they can they will then only do so if a neighbor has. This is to simulate the social pressure of converting but also the stigma against getting rid of \"beautiful\" non-native grassy lawns. Lawns will be either normal (grassy and needing water) or converted (native shrubs, needing no additional watering). While extreme drought may make this las assumption a little shaky, native gardens need almost no watering compared to water-intensive grasses. \n",
      "\n",
      "The household parameters of interest will be:\n",
      "    have they converted?\n",
      "    how much water are they using compared to initialization?\n",
      "    are they above 20% reduction?\n",
      "These will be tallied over the population and will create the output variables of interest to be analyzed during the parameter sweeping process. Water price, lawn conversion price (not including subsidy), gallons of water per month per square foot of lawn, income, budget and elasticity will all be held constant.\n",
      "\n",
      "Model\n",
      "\n",
      "Lawn Conversion:\n",
      "\n",
      "Each household will determine whether they can afford to convert their lawn. This will be a factor of \"lawn budget\" which is the price they spend on their lawn per month, and will be forward looking for a year at a 1/12 discount rate, so 13 months from now, savings will have a 0 dollar value. In reality discount factors vary and are correlated with income, but for parsimony's sake this will be a constant rate. If the price of converting a square foot, minus some subsidy per square foot, is less than this discounted total, the household will be deemed to be able to afford conversion. At this point, the interaction step occurs. Looking at the 8 neighbors (moore), the household will determine if anyone has converted a lawn already. If this has been the case, they will then convert based upon an influence factor that is randomly generated for each household. If the lawn is converted, current usage will reflect this by removing lawn usage from the total.\n",
      "\n",
      "    lawnsqft*(replacement_cost-lawn_sub))<=(lawn_budget*6) \n",
      "    if a neighbor has converted, random var<=influence level, and replacement is within budget, a household will convert its lawn to           native plants\n",
      "\n",
      "Budget Adjustment:\n",
      "\n",
      "Households will simultaneous adjust their budgets according to their usage and pricing from the previous month. This will consist of an evaluation of whether they are over budget (assumed to be the initial amount of money spent per month), and then the randomly generated budget elasticity with respect to water demand will be generated. This elasticity will interact with income, to demonstrate that wealthier households will respond less to penalties (and perhaps more so to social influence). A new usage rate will be determined based upon an updated budget that takes into consideration the penalty on overages (a swept parameter that will be some cents per gallon over 80% of initial usage) and budget elasticity. If they have converted a lawn in the last period, usage may actually go up slightly, as well as if there is no penalty. This is meant to demonstrate that budgetary flexibility interacts with subsidies and penalties in ways that policy makers must consider or they may see counterbalancing effects.    \n",
      "\n",
      "    water budget+ income(elasticity)= xgallon(water price) +(x-limit)penalty\n",
      "    --> x (adjusted consumption) = (w*b+i*e+l*pen)/(pr+pen)\n"
     ]
    },
    {
     "cell_type": "heading",
     "level": 3,
     "metadata": {},
     "source": [
      "Code Notebook"
     ]
    },
    {
     "cell_type": "code",
     "collapsed": false,
     "input": [
      "%matplotlib inline\n",
      "\n",
      "import copy\n",
      "import itertools\n",
      "\n",
      "import numpy\n",
      "import matplotlib.pyplot as plt\n",
      "import networkx\n",
      "import pandas\n",
      "import seaborn; seaborn.set()\n",
      "\n",
      "from IPython.html.widgets import *"
     ],
     "language": "python",
     "metadata": {},
     "outputs": [],
     "prompt_number": 20
    },
    {
     "cell_type": "heading",
     "level": 3,
     "metadata": {},
     "source": [
      "Household Class"
     ]
    },
    {
     "cell_type": "code",
     "collapsed": false,
     "input": [
      "class Household(object): \n",
      "    def __init__(self, model, has_converted, neighbor_converted, income, hh_size, avg_usg,\n",
      "               lawn_ratio, influence, budget_elasticity):\n",
      "        '''\n",
      "        A household will be of a randomly generated size, lawn ratio, water usage, income, budget elasticity and influence level.\n",
      "        The lawn ratio makes lawn size proportional to home size, and 5% of houses will be initialized with already converted lawns.\n",
      "        This is consistent with the figures in Los Angeles County. Elasticity is part of individual utility functions, and will \n",
      "        interact with income to determine how much households are willing to flex their budgets under new constraints. Households will\n",
      "        also have some level of influentiability, where if they see a neighbor having converted their lawn, they might (if they can afford it)\n",
      "        dependent upon this level. This reflects the stigma of not having a green lawn when everyone else does, and vice versa. \n",
      "        '''\n",
      "        self.model = model\n",
      "        \n",
      "        # Set Person parameters.\n",
      "        self.income = income\n",
      "        self.hh_size = hh_size\n",
      "        self.avg_usg = avg_usg\n",
      "        self.lawnratio = lawn_ratio\n",
      "        self.lawnsqft = lawn_ratio*hh_size\n",
      "        self.lawn_usg = hh_size*lawn_ratio*self.model.gal_per_lawnft\n",
      "        self.initial_usg = avg_usg+self.lawn_usg\n",
      "        self.water_budget = self.initial_usg*self.model.water_price\n",
      "        self.budget_elasticity = budget_elasticity\n",
      "        self.current_usg = self.avg_usg+self.lawn_usg\n",
      "        self.influence = influence\n",
      "        self.lawn_budget = self.lawn_usg*self.model.water_price\n",
      "        self.limit = .8*self.avg_usg\n",
      "        self.has_converted = has_converted\n",
      "        self.neighbor_converted = neighbor_converted\n",
      "        \n",
      "    def decide_convert(self):\n",
      "        if self.has_converted == False:\n",
      "            if (self.lawnsqft*(self.model.replacement_cost-self.model.lawn_sub))<=(self.lawn_budget*6): #assuming a 1/12 discount rate for a year's worth of lawn watering  \n",
      "                if self.neighbor_converted==True:\n",
      "                    if numpy.random.uniform()<=self.influence:\n",
      "                        self.has_converted = True\n",
      "                        self.current_usg+=(-1)*self.lawn_usg\n",
      "            ##function to determine if a household can afford to replace lawn, and assumes that either due to lack of information\n",
      "            ##or social pressure, they will only do so if a neighbor already has and influences them\n",
      "    def decide_budget(self):\n",
      "        if self.water_budget<=((self.current_usg*self.model.water_price)+(self.current_usg-self.limit)*self.model.penalty):\n",
      "            self.current_usg=(self.water_budget+self.budget_elasticity*self.income*(.01)+self.limit*self.model.penalty)/(self.model.water_price+self.model.penalty)\n",
      "     ##elasticity here just means a likelihood to use up to one percent of income to subsidize water spending, should create a realistic\n",
      "    ##comparison between income contstraints and personal willingness to pay                           \n",
      "\n",
      "    def update_convert(self):\n",
      "        self.neighbor_converted = True\n",
      "            \n",
      "    def is_converted(self):\n",
      "        return self.has_converted\n",
      "    \n",
      "    def below_limit(self):\n",
      "        if self.current_usg <= self.limit:\n",
      "            return True\n",
      "        return False\n",
      "    def get_current_usg(self):\n",
      "        return self.current_usg\n",
      "    def get_initial_usg(self):\n",
      "        return self.initial_usg\n",
      "    ##this code just helps to track changes during the step process and sweep the parameters later\n",
      "        "
     ],
     "language": "python",
     "metadata": {},
     "outputs": [],
     "prompt_number": 176
    },
    {
     "cell_type": "heading",
     "level": 4,
     "metadata": {},
     "source": [
      "Model Class and Step Method"
     ]
    },
    {
     "cell_type": "code",
     "collapsed": false,
     "input": [
      "class Model(object): \n",
      "    def __init__(self, grid_size, penalty=.1, lawn_sub=2.50, gal_per_lawnft=.5, replacement_cost=8, water_price=.25):\n",
      "        self.grid_size = grid_size\n",
      "        self.penalty = penalty \n",
      "        self.lawn_sub = lawn_sub\n",
      "        self.gal_per_lawnft=gal_per_lawnft\n",
      "        self.replacement_cost = replacement_cost\n",
      "        self.water_price = water_price\n",
      "    '''\n",
      "    This model will sweep penalty and lawn subsidy. These are parameters that policy makers can change and are the ones of interest\n",
      "    in this investigation. Water price is actually set at the utility company, and thus looking into how to set these policy numbers,\n",
      "    both jointly and seperately, is the key takeaway that I hope to present. This sweep will affect the outcome measures of:\n",
      "    1. Total Population that has Converted Lawns (%)\n",
      "    2. Percent of Population under the 80% limit (%)\n",
      "    3. Current percentage of initial usage (%) where anything under 80 means a policy success (ie a 20% reduction in 3 years)\n",
      "    '''\n",
      "    #state vars\n",
      "        self.time = 0\n",
      "        \n",
      "        self.penalty=penalty\n",
      "        self.hhs=[]      \n",
      "        \n",
      "     #history vars\n",
      "\n",
      "        self.hhs_history = []\n",
      "        self.total_population_converted = []\n",
      "        self.percent_under_limit = []\n",
      "        self.total_percentage_reduction = []\n",
      "        \n",
      "        self.setup_hh()\n",
      "        \n",
      "            \n",
      "    def setup_hh(self):\n",
      "        for x in xrange(self.grid_size):\n",
      "            temp_house_list = []\n",
      "            for y in xrange(self.grid_size):\n",
      "                income=numpy.random.normal(10000, 100000)\n",
      "                hh_size=float(numpy.random.normal(1000, 10000))\n",
      "                avg_usg=numpy.random.normal(1000, 5000)\n",
      "                lawn_ratio=numpy.random.uniform(0,.5)\n",
      "                influence=numpy.random.uniform(0,.05)\n",
      "                budget_elasticity=numpy.random.uniform(0,1)\n",
      "                if numpy.random.uniform(0,1) <= 0.05:\n",
      "                    has_converted = True\n",
      "                else:\n",
      "                    has_converted = False\n",
      "                temp_house_list.append((Household(self, has_converted, False, income, hh_size, avg_usg, \n",
      "                                                 lawn_ratio, influence, budget_elasticity)))\n",
      "            self.hhs.append((temp_house_list))\n",
      "           \n",
      "            ##creating a temporary variable to append the household into the list, as I decided to go with a 2d array instead of \n",
      "            ##a list of strings with id numbers, the households are called only by their x-y space on the grid as they never move, \n",
      "            ##hh_id wasn't necessary\n",
      "         \n",
      "                \n",
      "        \n",
      "    def update_neighbor_convert(self):\n",
      "        for x in range(1,self.grid_size-1): #only looking at those houses with full sets of neighbors, as those at the boundary points aren't really representative of actual households\n",
      "            for y in range(1,self.grid_size-1):\n",
      "                if self.hhs[x][y+1].is_converted()==True:\n",
      "                    self.hhs[x][y].update_convert()\n",
      "                if self.hhs[x][y-1].is_converted()==True:\n",
      "                    self.hhs[x][y].update_convert()\n",
      "                if self.hhs[x+1][y+1].is_converted()==True:\n",
      "                    self.hhs[x][y].update_convert()\n",
      "                if self.hhs[x+1][y].is_converted()==True:\n",
      "                    self.hhs[x][y].update_convert()\n",
      "                if self.hhs[x+1][y-1].is_converted()==True:\n",
      "                    self.hhs[x][y].update_convert()\n",
      "                if self.hhs[x-1][y].is_converted()==True:\n",
      "                    self.hhs[x][y].update_convert()\n",
      "                if self.hhs[x-1][y+1].is_converted()==True:\n",
      "                    self.hhs[x][y].update_convert()\n",
      "                if self.hhs[x-1][y-1].is_converted()==True:\n",
      "                    self.hhs[x][y].update_convert()\n",
      "        ##checking to see if a neighbor has converted, it will be considered influential if one or all neighbors have done it\n",
      "        \n",
      "        \n",
      "    def month_step(self):\n",
      "        limit_count = 0\n",
      "        self.update_neighbor_convert()\n",
      "        for x in range(self.grid_size):\n",
      "            for y in range(self.grid_size):\n",
      "                self.hhs[x][y].decide_budget()\n",
      "                self.hhs[x][y].decide_convert()\n",
      "                if self.hhs[x][y].below_limit() == True:\n",
      "                    limit_count+=1\n",
      "        self.hhs_history.append(self.hhs)\n",
      "        self.time+=1   \n",
      "       # basic step, following time, employing hh class functions\n",
      "    def calculate_stuff(self):\n",
      "        for i in range(len(self.hhs_history)):\n",
      "            convert_count = 0.0\n",
      "            limit_count = 0.0\n",
      "            current_total_count= 0.0\n",
      "            initial_total_count=0.0\n",
      "            temp_hhs = self.hhs_history[i]\n",
      "            for x in range(self.grid_size):\n",
      "                for y in range(self.grid_size):\n",
      "                    if temp_hhs[x][y].is_converted():\n",
      "                        convert_count+=1.0\n",
      "                    if temp_hhs[x][y].below_limit():\n",
      "                        limit_count+=1.0\n",
      "                    current_total_count+=temp_hhs[x][y].get_current_usg()\n",
      "                    initial_total_count+=temp_hhs[x][y].get_initial_usg()\n",
      "            self.total_population_converted.append(convert_count/(self.grid_size*self.grid_size))\n",
      "            self.percent_under_limit.append(limit_count/(self.grid_size*self.grid_size))\n",
      "            self.total_percentage_reduction.append(current_total_count/initial_total_count) \n",
      "#calculating outputs of interest for each HH, then tabulating and presenting as percentages \n",
      "        \n",
      "            \n",
      "    def return_pop_converted(self):\n",
      "        return self.total_population_converted\n",
      "    def return_percent_under_limit(self):\n",
      "        return self.percent_under_limit\n",
      "    def return_total_percentage_reduced(self):\n",
      "        return self.total_percentage_reduction\n",
      " \n",
      "            \n",
      "        "
     ],
     "language": "python",
     "metadata": {},
     "outputs": [],
     "prompt_number": 166
    },
    {
     "cell_type": "heading",
     "level": 5,
     "metadata": {},
     "source": [
      "Results"
     ]
    },
    {
     "cell_type": "code",
     "collapsed": false,
     "input": [
      "\n",
      "\n",
      "m = Model(20, .1, 2.50, .5, 8, .25)\n",
      "num_steps = 36\n",
      "for t in range(num_steps): \n",
      "    m.month_step()\n",
      "    \n",
      "m.calculate_stuff()\n",
      "\n",
      "pop_con = m.return_pop_converted()\n",
      "for i in range(len(pop_con)):\n",
      "    print(pop_con[i])\n",
      "    \n",
      "per_red = m.return_total_percentage_reduced()\n",
      "for i in range(len(per_red)):\n",
      "    print(per_red[i])\n",
      "    \n",
      "per_lim = m.return_percent_under_limit()\n",
      "for i in range(len(per_lim)):\n",
      "    print(per_lim[i])\n",
      "\n",
      "print(\"percent converted lawns: \" ,m.return_pop_converted()[num_steps - 1])\n",
      "print(\"percent under limit: \", m.return_percent_under_limit()[num_steps - 1])\n",
      "print(\"total percent reduction: \", m.return_total_percentage_reduced()[num_steps - 1])\n",
      "\n",
      "f = plt.plot(pop_con)\n",
      "t = plt.plot(per_red)\n",
      "l = plt.plot(per_lim)\n",
      "'''this is the one place where I couldnt figure out what I did wrong. I am trying to graph the changes in output variables at each\n",
      "    time step, and while I can see that they are indeed changing with each step, the graph is only showing me the final results\n",
      "    acruss all time steps'''\n",
      "    "
     ],
     "language": "python",
     "metadata": {},
     "outputs": [
      {
       "output_type": "stream",
       "stream": "stdout",
       "text": [
        "0.13\n",
        "0.13\n",
        "0.13\n",
        "0.13\n",
        "0.13\n",
        "0.13\n",
        "0.13\n",
        "0.13\n",
        "0.13\n",
        "0.13\n",
        "0.13\n",
        "0.13\n",
        "0.13\n",
        "0.13\n",
        "0.13\n",
        "0.13\n",
        "0.13\n",
        "0.13\n",
        "0.13\n",
        "0.13\n",
        "0.13\n",
        "0.13\n",
        "0.13\n",
        "0.13\n",
        "0.13\n",
        "0.13\n",
        "0.13\n",
        "0.13\n",
        "0.13\n",
        "0.13\n",
        "0.13\n",
        "0.13\n",
        "0.13\n",
        "0.13\n",
        "0.13\n",
        "0.13\n",
        "0.875852732277\n",
        "0.875852732277\n",
        "0.875852732277\n",
        "0.875852732277\n",
        "0.875852732277\n",
        "0.875852732277\n",
        "0.875852732277\n",
        "0.875852732277\n",
        "0.875852732277\n",
        "0.875852732277\n",
        "0.875852732277\n",
        "0.875852732277\n",
        "0.875852732277\n",
        "0.875852732277\n",
        "0.875852732277\n",
        "0.875852732277\n",
        "0.875852732277\n",
        "0.875852732277\n",
        "0.875852732277\n",
        "0.875852732277\n",
        "0.875852732277\n",
        "0.875852732277\n",
        "0.875852732277\n",
        "0.875852732277\n",
        "0.875852732277\n",
        "0.875852732277\n",
        "0.875852732277\n",
        "0.875852732277\n",
        "0.875852732277\n",
        "0.875852732277\n",
        "0.875852732277\n",
        "0.875852732277\n",
        "0.875852732277\n",
        "0.875852732277\n",
        "0.875852732277\n",
        "0.875852732277\n",
        "0.5425\n",
        "0.5425\n",
        "0.5425\n",
        "0.5425\n",
        "0.5425\n",
        "0.5425\n",
        "0.5425\n",
        "0.5425\n",
        "0.5425\n",
        "0.5425\n",
        "0.5425\n",
        "0.5425\n",
        "0.5425\n",
        "0.5425\n",
        "0.5425\n",
        "0.5425\n",
        "0.5425\n",
        "0.5425\n",
        "0.5425\n",
        "0.5425\n",
        "0.5425\n",
        "0.5425\n",
        "0.5425\n",
        "0.5425\n",
        "0.5425\n",
        "0.5425\n",
        "0.5425\n",
        "0.5425\n",
        "0.5425\n",
        "0.5425\n",
        "0.5425\n",
        "0.5425\n",
        "0.5425\n",
        "0.5425\n",
        "0.5425\n",
        "0.5425\n",
        "('percent converted lawns: ', 0.13)\n",
        "('percent under limit: ', 0.5425)\n",
        "('total percent reduction: ', 0.8758527322774136)\n"
       ]
      },
      {
       "metadata": {},
       "output_type": "display_data",
       "png": "[encoded data removed]",
       "text": [
        "<matplotlib.figure.Figure at 0x182fa3c8>"
       ]
      }
     ],
     "prompt_number": 177
    },
    {
     "cell_type": "code",
     "collapsed": false,
     "input": [
      "#Parameter sweep across a reasonable range of values, discussed further in the results PDF\n",
      "\n",
      "lawn_subs = [0.0, 1.0, 2.0, 3.0, 4.0, 5.0]\n",
      "penalties = [0.0, 0.05, 0.1, 0.15, 0.2, 0.25]\n",
      "num_steps = 36\n",
      "\n",
      "final_population_converted = []\n",
      "\n",
      "for i in lawn_subs:\n",
      "    for j in penalties:\n",
      "        m = Model(20, j, i, .5, 8, .25)\n",
      "        for k in range(36):\n",
      "            m.month_step()\n",
      "        m.calculate_stuff()\n",
      "        print(\"Population converted: \", m.return_pop_converted()[35], \"Percentage reduced: \",\n",
      "              m.return_total_percentage_reduced()[35], \"Percentage under limit: \", m.return_percent_under_limit()[35],  \" with: \", i, \\\n",
      "              \"lawn subs and \", j, \" penalties\")\n",
      "        \n"
     ],
     "language": "python",
     "metadata": {},
     "outputs": [
      {
       "output_type": "stream",
       "stream": "stdout",
       "text": [
        "('Population converted: ', 0.1875, 'Percentage reduced: ', 1.295084982171183, 'Percentage under limit: ', 0.425, ' with: ', 0.0, 'lawn subs and ', 0.0, ' penalties')\n",
        "('Population converted: ', 0.16, 'Percentage reduced: ', 1.0125534477099003, 'Percentage under limit: ', 0.5175, ' with: ', 0.0, 'lawn subs and ', 0.05, ' penalties')"
       ]
      },
      {
       "output_type": "stream",
       "stream": "stdout",
       "text": [
        "\n",
        "('Population converted: ', 0.1575, 'Percentage reduced: ', 0.895843667348723, 'Percentage under limit: ', 0.525, ' with: ', 0.0, 'lawn subs and ', 0.1, ' penalties')"
       ]
      },
      {
       "output_type": "stream",
       "stream": "stdout",
       "text": [
        "\n",
        "('Population converted: ', 0.1575, 'Percentage reduced: ', 0.8896672904993693, 'Percentage under limit: ', 0.53, ' with: ', 0.0, 'lawn subs and ', 0.15, ' penalties')"
       ]
      },
      {
       "output_type": "stream",
       "stream": "stdout",
       "text": [
        "\n",
        "('Population converted: ', 0.145, 'Percentage reduced: ', 0.7049588094643121, 'Percentage under limit: ', 0.5475, ' with: ', 0.0, 'lawn subs and ', 0.2, ' penalties')"
       ]
      },
      {
       "output_type": "stream",
       "stream": "stdout",
       "text": [
        "\n",
        "('Population converted: ', 0.115, 'Percentage reduced: ', 0.3949545786719262, 'Percentage under limit: ', 0.5675, ' with: ', 0.0, 'lawn subs and ', 0.25, ' penalties')"
       ]
      },
      {
       "output_type": "stream",
       "stream": "stdout",
       "text": [
        "\n",
        "('Population converted: ', 0.12, 'Percentage reduced: ', 0.9692984224370246, 'Percentage under limit: ', 0.445, ' with: ', 1.0, 'lawn subs and ', 0.0, ' penalties')"
       ]
      },
      {
       "output_type": "stream",
       "stream": "stdout",
       "text": [
        "\n",
        "('Population converted: ', 0.1475, 'Percentage reduced: ', 0.9985316881255242, 'Percentage under limit: ', 0.525, ' with: ', 1.0, 'lawn subs and ', 0.05, ' penalties')"
       ]
      },
      {
       "output_type": "stream",
       "stream": "stdout",
       "text": [
        "\n",
        "('Population converted: ', 0.22, 'Percentage reduced: ', 0.9286798955709361, 'Percentage under limit: ', 0.5125, ' with: ', 1.0, 'lawn subs and ', 0.1, ' penalties')"
       ]
      },
      {
       "output_type": "stream",
       "stream": "stdout",
       "text": [
        "\n",
        "('Population converted: ', 0.1825, 'Percentage reduced: ', 0.7692648632758622, 'Percentage under limit: ', 0.5575, ' with: ', 1.0, 'lawn subs and ', 0.15, ' penalties')"
       ]
      },
      {
       "output_type": "stream",
       "stream": "stdout",
       "text": [
        "\n",
        "('Population converted: ', 0.11, 'Percentage reduced: ', 0.8108081276955919, 'Percentage under limit: ', 0.5175, ' with: ', 1.0, 'lawn subs and ', 0.2, ' penalties')"
       ]
      },
      {
       "output_type": "stream",
       "stream": "stdout",
       "text": [
        "\n",
        "('Population converted: ', 0.155, 'Percentage reduced: ', 0.7573377738490842, 'Percentage under limit: ', 0.5, ' with: ', 1.0, 'lawn subs and ', 0.25, ' penalties')"
       ]
      },
      {
       "output_type": "stream",
       "stream": "stdout",
       "text": [
        "\n",
        "('Population converted: ', 0.15, 'Percentage reduced: ', 1.0042611455673993, 'Percentage under limit: ', 0.435, ' with: ', 2.0, 'lawn subs and ', 0.0, ' penalties')"
       ]
      },
      {
       "output_type": "stream",
       "stream": "stdout",
       "text": [
        "\n",
        "('Population converted: ', 0.13, 'Percentage reduced: ', 1.1256122641225492, 'Percentage under limit: ', 0.5, ' with: ', 2.0, 'lawn subs and ', 0.05, ' penalties')"
       ]
      },
      {
       "output_type": "stream",
       "stream": "stdout",
       "text": [
        "\n",
        "('Population converted: ', 0.09, 'Percentage reduced: ', 0.7855011105499424, 'Percentage under limit: ', 0.5225, ' with: ', 2.0, 'lawn subs and ', 0.1, ' penalties')"
       ]
      },
      {
       "output_type": "stream",
       "stream": "stdout",
       "text": [
        "\n",
        "('Population converted: ', 0.1475, 'Percentage reduced: ', 0.7754262208296667, 'Percentage under limit: ', 0.545, ' with: ', 2.0, 'lawn subs and ', 0.15, ' penalties')"
       ]
      },
      {
       "output_type": "stream",
       "stream": "stdout",
       "text": [
        "\n",
        "('Population converted: ', 0.1225, 'Percentage reduced: ', 0.7138339028765025, 'Percentage under limit: ', 0.565, ' with: ', 2.0, 'lawn subs and ', 0.2, ' penalties')"
       ]
      },
      {
       "output_type": "stream",
       "stream": "stdout",
       "text": [
        "\n",
        "('Population converted: ', 0.2075, 'Percentage reduced: ', 0.6963494306957086, 'Percentage under limit: ', 0.51, ' with: ', 2.0, 'lawn subs and ', 0.25, ' penalties')"
       ]
      },
      {
       "output_type": "stream",
       "stream": "stdout",
       "text": [
        "\n",
        "('Population converted: ', 0.1925, 'Percentage reduced: ', 1.4524498653304494, 'Percentage under limit: ', 0.4425, ' with: ', 3.0, 'lawn subs and ', 0.0, ' penalties')"
       ]
      },
      {
       "output_type": "stream",
       "stream": "stdout",
       "text": [
        "\n",
        "('Population converted: ', 0.165, 'Percentage reduced: ', 0.8714361779180704, 'Percentage under limit: ', 0.56, ' with: ', 3.0, 'lawn subs and ', 0.05, ' penalties')"
       ]
      },
      {
       "output_type": "stream",
       "stream": "stdout",
       "text": [
        "\n",
        "('Population converted: ', 0.1325, 'Percentage reduced: ', 0.7802547077459797, 'Percentage under limit: ', 0.545, ' with: ', 3.0, 'lawn subs and ', 0.1, ' penalties')"
       ]
      },
      {
       "output_type": "stream",
       "stream": "stdout",
       "text": [
        "\n",
        "('Population converted: ', 0.1175, 'Percentage reduced: ', 0.7571650178979433, 'Percentage under limit: ', 0.53, ' with: ', 3.0, 'lawn subs and ', 0.15, ' penalties')"
       ]
      },
      {
       "output_type": "stream",
       "stream": "stdout",
       "text": [
        "\n",
        "('Population converted: ', 0.19, 'Percentage reduced: ', 0.7970181910849109, 'Percentage under limit: ', 0.52, ' with: ', 3.0, 'lawn subs and ', 0.2, ' penalties')"
       ]
      },
      {
       "output_type": "stream",
       "stream": "stdout",
       "text": [
        "\n",
        "('Population converted: ', 0.12, 'Percentage reduced: ', 0.7358374392247431, 'Percentage under limit: ', 0.5525, ' with: ', 3.0, 'lawn subs and ', 0.25, ' penalties')"
       ]
      },
      {
       "output_type": "stream",
       "stream": "stdout",
       "text": [
        "\n",
        "('Population converted: ', 0.1575, 'Percentage reduced: ', 1.1987959855442036, 'Percentage under limit: ', 0.43, ' with: ', 4.0, 'lawn subs and ', 0.0, ' penalties')"
       ]
      },
      {
       "output_type": "stream",
       "stream": "stdout",
       "text": [
        "\n",
        "('Population converted: ', 0.1675, 'Percentage reduced: ', 0.9477248656236107, 'Percentage under limit: ', 0.55, ' with: ', 4.0, 'lawn subs and ', 0.05, ' penalties')"
       ]
      },
      {
       "output_type": "stream",
       "stream": "stdout",
       "text": [
        "\n",
        "('Population converted: ', 0.1875, 'Percentage reduced: ', 1.0007635321859631, 'Percentage under limit: ', 0.4975, ' with: ', 4.0, 'lawn subs and ', 0.1, ' penalties')"
       ]
      },
      {
       "output_type": "stream",
       "stream": "stdout",
       "text": [
        "\n",
        "('Population converted: ', 0.155, 'Percentage reduced: ', 0.8872355467264359, 'Percentage under limit: ', 0.52, ' with: ', 4.0, 'lawn subs and ', 0.15, ' penalties')"
       ]
      },
      {
       "output_type": "stream",
       "stream": "stdout",
       "text": [
        "\n",
        "('Population converted: ', 0.18, 'Percentage reduced: ', 0.6607857261957936, 'Percentage under limit: ', 0.5625, ' with: ', 4.0, 'lawn subs and ', 0.2, ' penalties')"
       ]
      },
      {
       "output_type": "stream",
       "stream": "stdout",
       "text": [
        "\n",
        "('Population converted: ', 0.165, 'Percentage reduced: ', 0.7784577730782859, 'Percentage under limit: ', 0.515, ' with: ', 4.0, 'lawn subs and ', 0.25, ' penalties')"
       ]
      },
      {
       "output_type": "stream",
       "stream": "stdout",
       "text": [
        "\n",
        "('Population converted: ', 0.17, 'Percentage reduced: ', 1.1186845057871022, 'Percentage under limit: ', 0.435, ' with: ', 5.0, 'lawn subs and ', 0.0, ' penalties')"
       ]
      },
      {
       "output_type": "stream",
       "stream": "stdout",
       "text": [
        "\n",
        "('Population converted: ', 0.14, 'Percentage reduced: ', 1.070281141450884, 'Percentage under limit: ', 0.5025, ' with: ', 5.0, 'lawn subs and ', 0.05, ' penalties')"
       ]
      },
      {
       "output_type": "stream",
       "stream": "stdout",
       "text": [
        "\n",
        "('Population converted: ', 0.17, 'Percentage reduced: ', 0.9459480199183632, 'Percentage under limit: ', 0.48, ' with: ', 5.0, 'lawn subs and ', 0.1, ' penalties')"
       ]
      },
      {
       "output_type": "stream",
       "stream": "stdout",
       "text": [
        "\n",
        "('Population converted: ', 0.1475, 'Percentage reduced: ', 0.796370181056801, 'Percentage under limit: ', 0.5375, ' with: ', 5.0, 'lawn subs and ', 0.15, ' penalties')"
       ]
      },
      {
       "output_type": "stream",
       "stream": "stdout",
       "text": [
        "\n",
        "('Population converted: ', 0.1675, 'Percentage reduced: ', 0.7296266745004273, 'Percentage under limit: ', 0.565, ' with: ', 5.0, 'lawn subs and ', 0.2, ' penalties')"
       ]
      },
      {
       "output_type": "stream",
       "stream": "stdout",
       "text": [
        "\n",
        "('Population converted: ', 0.1275, 'Percentage reduced: ', 0.7441317444507397, 'Percentage under limit: ', 0.5575, ' with: ', 5.0, 'lawn subs and ', 0.25, ' penalties')"
       ]
      },
      {
       "output_type": "stream",
       "stream": "stdout",
       "text": [
        "\n"
       ]
      }
     ],
     "prompt_number": 174
    }
   ],
   "metadata": {}
  }
 ]
}
